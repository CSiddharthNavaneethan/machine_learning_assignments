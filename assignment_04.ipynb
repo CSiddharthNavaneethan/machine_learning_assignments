{
 "cells": [
  {
   "cell_type": "markdown",
   "metadata": {},
   "source": [
    "<h1><center>Session 2 : Assignment 4</center></h1>"
   ]
  },
  {
   "cell_type": "markdown",
   "metadata": {},
   "source": [
    "## GitHub:https://github.com/CSiddharthNavaneethan/machine_learning_assignments"
   ]
  },
  {
   "cell_type": "markdown",
   "metadata": {},
   "source": [
    "### 1.1 Write a Python Program(with class concepts) to find the area of the triangle using the below formula. \n",
    "\n",
    "area = (s*(s-a)*(s-b)*(s-c)) ** 0.5 \n",
    "\n",
    "Function to take the length of the sides of triangle from user should be defined in the parent class and function to calculate the area should be defined in subclass."
   ]
  },
  {
   "cell_type": "code",
   "execution_count": 1,
   "metadata": {},
   "outputs": [
    {
     "name": "stdout",
     "output_type": "stream",
     "text": [
      "enter value a = 2\n",
      "enter value b = 3\n",
      "enter value c = 4\n",
      "\n",
      "*************************\n",
      "\n",
      "Output : \n",
      "\n",
      "area of triangle : 2.9047375096555625\n"
     ]
    }
   ],
   "source": [
    "class Triangle:\n",
    "    \n",
    "    # uses for initialization of inputs\n",
    "    def __init__(tri, a,b,c):\n",
    "        \n",
    "        tri.a = a\n",
    "        tri.b = b\n",
    "        tri.c = c\n",
    "        \n",
    "        \n",
    "    # calculate the area of triangle\n",
    "    def area_oftriangle(tri):\n",
    "        \n",
    "        # semi perimeter of triangle\n",
    "        s = (tri.a + tri.b + tri.c) / 2\n",
    "        \n",
    "        # formula for area of triangle \n",
    "        area = (s*(s-tri.a)*(s-tri.b)*(s-tri.c)) ** 0.5\n",
    "        \n",
    "        # for allignment purpose\n",
    "        print()\n",
    "        print('*'*25)\n",
    "        print()\n",
    "        print('Output : ')\n",
    "        print()\n",
    "        \n",
    "        # returns the output value for area of triangle\n",
    "        return area\n",
    "\n",
    "# input the value for each sides of triangle like (2,3,4)\n",
    "a=float(input(\"enter value a = \"))\n",
    "b=float(input(\"enter value b = \"))\n",
    "c=float(input(\"enter value c = \"))\n",
    "\n",
    "# assigning to call the class\n",
    "t = Triangle(a,b,c)\n",
    "\n",
    "# for allignment purposes\n",
    "print('area of triangle : {}'.format(t.area_oftriangle()))"
   ]
  },
  {
   "cell_type": "markdown",
   "metadata": {},
   "source": [
    "### 1.2 Write a function filter_long_words() that takes a list of words and an integer n and returns the list of words that are longer than n."
   ]
  },
  {
   "cell_type": "code",
   "execution_count": 2,
   "metadata": {},
   "outputs": [
    {
     "name": "stdout",
     "output_type": "stream",
     "text": [
      "enter list of  words : a,ab,cde,erty,qwerty\n",
      "enter integer value : 2\n",
      "\n",
      "list of words :  ['a', 'ab', 'cde', 'erty', 'qwerty']\n",
      "\n",
      "*************************\n",
      "\n",
      "Output : \n"
     ]
    },
    {
     "data": {
      "text/plain": [
       "['cde', 'erty', 'qwerty']"
      ]
     },
     "execution_count": 2,
     "metadata": {},
     "output_type": "execute_result"
    }
   ],
   "source": [
    "def filter_long_words(list_words,n):\n",
    "    \n",
    "    # split the user list\n",
    "    split_list = list_words.split(',')\n",
    "    print()\n",
    "    print('list of words : ' ,split_list)\n",
    "    \n",
    "    \n",
    "    # create an empty list to store the user list with greater than n value (from list of  words)\n",
    "    m = []\n",
    "    \n",
    "    # for allignment purpose\n",
    "    print()\n",
    "    print('*'*25)\n",
    "\n",
    "    # for looping to compare with the n and evaluate greater than words (n value 2 in this code example)\n",
    "    for i in split_list:\n",
    "        if len(i) > n:\n",
    "            m.append(i)\n",
    "            \n",
    "    # returns the Output\n",
    "    print()\n",
    "    print('Output : ')\n",
    "    return m\n",
    "            \n",
    "# input list of words and integer value\n",
    "filter_long_words(list_words=input('enter list of  words : '),n=int(input('enter integer value : ')))"
   ]
  },
  {
   "cell_type": "markdown",
   "metadata": {},
   "source": [
    "### 2.1 Write a Python program using function concept that maps list of words into a list of integers representing the lengths of the corresponding words. \n",
    "\n",
    "Hint: If a list [ ab,cde,erty] is passed on to the python function output should come as [2,3,4] \n",
    "\n",
    "Here 2,3 and 4 are the lengths of the words in the list."
   ]
  },
  {
   "cell_type": "code",
   "execution_count": 3,
   "metadata": {},
   "outputs": [
    {
     "name": "stdout",
     "output_type": "stream",
     "text": [
      "enter list of words : ab,cde,erty\n",
      "\n",
      "list of words : ['ab', 'cde', 'erty']\n",
      "\n",
      "*************************\n",
      "Output : \n"
     ]
    },
    {
     "data": {
      "text/plain": [
       "[2, 3, 4]"
      ]
     },
     "execution_count": 3,
     "metadata": {},
     "output_type": "execute_result"
    }
   ],
   "source": [
    "def map_words(list_words):\n",
    "    \n",
    "    # split the user list\n",
    "    split_list = list_words.split(',')\n",
    "    print()\n",
    "    print('list of words :',split_list)\n",
    "    \n",
    "    # for allignment purpose\n",
    "    print()\n",
    "    print('*'*25)\n",
    "    \n",
    "    # create an empty list to store the user list in numerical value\n",
    "    m = []\n",
    "    \n",
    "    # for looping to find the count of string from the input\n",
    "    for i in split_list:\n",
    "        m.append(len(i))\n",
    "    \n",
    "    \n",
    "    # returns the Output :\n",
    "    print('Output : ')\n",
    "    return m\n",
    "\n",
    "# input list of words\n",
    "map_words(input('enter list of words : '))"
   ]
  },
  {
   "cell_type": "markdown",
   "metadata": {},
   "source": [
    "### 2.2 Write a Python function which takes a character (i.e. a string of length 1) and returns True if it is a vowel, False otherwise."
   ]
  },
  {
   "cell_type": "code",
   "execution_count": 4,
   "metadata": {},
   "outputs": [
    {
     "name": "stdout",
     "output_type": "stream",
     "text": [
      "Enter a single charater : i\n",
      "\n",
      "*************************\n",
      "\n",
      "Output : \n"
     ]
    },
    {
     "data": {
      "text/plain": [
       "True"
      ]
     },
     "execution_count": 4,
     "metadata": {},
     "output_type": "execute_result"
    }
   ],
   "source": [
    "def vowel(character):\n",
    "    \n",
    "    # all vowels character\n",
    "    vowels_char = ['a','e','i','o','u']\n",
    "    \n",
    "    # for allignment purposes\n",
    "    print()\n",
    "    print('*'*25)\n",
    "    print()\n",
    "    print('Output : ')\n",
    "    \n",
    "    # if matched returns true ,else returns false if not true\n",
    "    return character in vowels_char\n",
    "\n",
    "\n",
    "# enter the input single character\n",
    "vowel(input('Enter a single charater : '))"
   ]
  }
 ],
 "metadata": {
  "kernelspec": {
   "display_name": "Python 3",
   "language": "python",
   "name": "python3"
  },
  "language_info": {
   "codemirror_mode": {
    "name": "ipython",
    "version": 3
   },
   "file_extension": ".py",
   "mimetype": "text/x-python",
   "name": "python",
   "nbconvert_exporter": "python",
   "pygments_lexer": "ipython3",
   "version": "3.7.6"
  }
 },
 "nbformat": 4,
 "nbformat_minor": 4
}
