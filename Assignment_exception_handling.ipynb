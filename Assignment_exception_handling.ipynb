{
 "cells": [
  {
   "cell_type": "markdown",
   "metadata": {},
   "source": [
    "<h1><center>Session 5 : Assignment Exception Handling</center></h1>"
   ]
  },
  {
   "cell_type": "markdown",
   "metadata": {},
   "source": [
    "## GitHub:https://github.com/CSiddharthNavaneethan/machine_learning_assignments"
   ]
  },
  {
   "cell_type": "markdown",
   "metadata": {},
   "source": [
    "### 1. Write a function to compute 5/0 and use try/except to catch the exceptions."
   ]
  },
  {
   "cell_type": "code",
   "execution_count": 1,
   "metadata": {},
   "outputs": [
    {
     "name": "stdout",
     "output_type": "stream",
     "text": [
      "Enter the value1 : 5\n",
      "Enter the value2 : 0\n",
      "\n",
      "*************************\n",
      "\n",
      "Output : \n",
      "\n",
      "ZeroDivisionError: division by zero\n"
     ]
    }
   ],
   "source": [
    "# accepts the input\n",
    "try:\n",
    "    # to take input as 5,0 \n",
    "    a = int(input('Enter the value1 : '))\n",
    "    b = int(input('Enter the value2 : '))\n",
    "    c = int(a/b)\n",
    "    \n",
    "except:\n",
    "    # for allignment purpose\n",
    "    print()\n",
    "    print('*'*25)\n",
    "    print()\n",
    "    \n",
    "    # output \n",
    "    print('Output : ')\n",
    "    print()\n",
    "    print('ZeroDivisionError: division by zero')\n",
    "    \n",
    "else:\n",
    "    # for alligmnet purpose\n",
    "    print()\n",
    "    print('*'*25)\n",
    "    print()\n",
    "    \n",
    "    # if divisible with output the value as remainder\n",
    "    print('The value is divisible and remainder is : ',c)"
   ]
  },
  {
   "cell_type": "markdown",
   "metadata": {},
   "source": [
    "### 2. Implement a Python program to generate all sentences where subject is in \n",
    "[\"Americans\", \"Indians\"] and verb is in [\"Play\", \"watch\"] and the object is in \n",
    "[\"Baseball\",\"cricket\"].\n",
    "\n",
    "\n",
    "\n",
    "**Hint: Subject,Verb and Object should be declared in the program as shown below.**\n",
    "\n",
    "\n",
    "subjects=[\"Americans \",\"Indians\"]\n",
    "\n",
    "verbs=[\"play\",\"watch\"]\n",
    "\n",
    "objects=[\"Baseball\",\"Cricket\"]\n",
    "\n",
    "\n",
    "\n",
    "\n",
    "**Output should come as below:**\n",
    "\n",
    "Americans play Baseball.\n",
    "\n",
    "Americans play Cricket.\n",
    "\n",
    "Americans watch Baseball.\n",
    "\n",
    "Americans watch Cricket.\n",
    "\n",
    "Indians play Baseball.\n",
    "\n",
    "Indians play Cricket.\n",
    "\n",
    "Indians watch Baseball.\n",
    "\n",
    "Indians watch Cricket."
   ]
  },
  {
   "cell_type": "code",
   "execution_count": 2,
   "metadata": {},
   "outputs": [
    {
     "name": "stdout",
     "output_type": "stream",
     "text": [
      "Enter the Subject : Americans,Indians\n",
      "Enter the verb : play,watch\n",
      "Enter the objects Baseball,Cricket\n",
      "\n",
      "Subject List :  ['Americans', 'Indians']\n",
      "Verb List :  ['play', 'watch']\n",
      "Objects List :  ['Baseball', 'Cricket']\n",
      "\n",
      "*************************\n",
      "\n",
      "Output : \n",
      "\n",
      "Americans play Baseball.\n",
      "Americans play Cricket.\n",
      "Americans watch Baseball.\n",
      "Americans watch Cricket.\n",
      "Indians play Baseball.\n",
      "Indians play Cricket.\n",
      "Indians watch Baseball.\n",
      "Indians watch Cricket.\n",
      "\n"
     ]
    }
   ],
   "source": [
    "class Classify():\n",
    "    \n",
    "    # initializing inside a class\n",
    "    def __init__(self,a,b,c):\n",
    "        \n",
    "        self.a = a\n",
    "        self.b = b\n",
    "        self.c = c\n",
    "    \n",
    "    # execute the code \n",
    "    def grammar(self):\n",
    "        \n",
    "        # allign the string in a list\n",
    "        subject = list(self.a)\n",
    "        verb = list(self.b)\n",
    "        objects = list(self.c)\n",
    "        \n",
    "        # the List of all Subject, Verb and Objects\n",
    "        print('Subject List : ',subject)\n",
    "        print('Verb List : ',verb)\n",
    "        print('Objects List : ',objects)\n",
    "        \n",
    "        \n",
    "        # for allignment purpose\n",
    "        print()\n",
    "        print('*'*25)\n",
    "        print()\n",
    "        print('Output : ')\n",
    "        print()\n",
    "        \n",
    "        # for looping to initiate nested loop from the list\n",
    "        for s in subject:\n",
    "            for v in verb:\n",
    "                for o in objects:\n",
    "                    print('{} {} {}.'.format(s,v,o))\n",
    "                    \n",
    "                    \n",
    "# input list of Subject,Verb and Objects        \n",
    "a = input('Enter the Subject : ').split(',')\n",
    "b = input('Enter the verb : ').split(',')\n",
    "c = input('Enter the objects ').split(',')\n",
    "\n",
    "# for allignment purpose\n",
    "print()\n",
    "\n",
    "# to call a class object\n",
    "cl = Classify(a,b,c)\n",
    "\n",
    "print(''.format(cl.grammar()))"
   ]
  }
 ],
 "metadata": {
  "kernelspec": {
   "display_name": "Python 3",
   "language": "python",
   "name": "python3"
  },
  "language_info": {
   "codemirror_mode": {
    "name": "ipython",
    "version": 3
   },
   "file_extension": ".py",
   "mimetype": "text/x-python",
   "name": "python",
   "nbconvert_exporter": "python",
   "pygments_lexer": "ipython3",
   "version": "3.7.6"
  }
 },
 "nbformat": 4,
 "nbformat_minor": 4
}
