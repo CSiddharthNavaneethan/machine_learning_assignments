{
 "cells": [
  {
   "cell_type": "markdown",
   "metadata": {},
   "source": [
    "<h1><center>Session 8 : Assignment 8</center></h1>"
   ]
  },
  {
   "cell_type": "markdown",
   "metadata": {},
   "source": [
    "## GitHub:https://github.com/CSiddharthNavaneethan/machine_learning_assignments"
   ]
  },
  {
   "cell_type": "markdown",
   "metadata": {},
   "source": [
    "## In this assignment students have to transform iris data into 3 dimensions and plot a 3d chart with transformed dimensions and colour each data point with specific class.\n"
   ]
  },
  {
   "cell_type": "code",
   "execution_count": null,
   "metadata": {},
   "outputs": [],
   "source": [
    "# import the packages\n",
    "import numpy as np\n",
    "import matplotlib.pyplot as plt\n",
    "%matplotlib inline\n",
    "from mpl_toolkits.mplot3d import Axes3D \n",
    "from sklearn import decomposition\n",
    "from sklearn import datasets\n",
    "\n",
    "# import seaborn to check the data\n",
    "import seaborn as sns\n",
    "import pandas as pd"
   ]
  },
  {
   "cell_type": "code",
   "execution_count": null,
   "metadata": {},
   "outputs": [],
   "source": [
    "# loading data from sklearn dataset\n",
    "iris_data = datasets.load_iris()"
   ]
  },
  {
   "cell_type": "code",
   "execution_count": null,
   "metadata": {},
   "outputs": [],
   "source": [
    "# print the iris dataset from sklearn datasets\n",
    "iris_data"
   ]
  },
  {
   "cell_type": "code",
   "execution_count": null,
   "metadata": {},
   "outputs": [],
   "source": [
    "# using seaborn library to load iris data to cross verify\n",
    "data_iris = sns.load_dataset('iris')\n",
    "data_iris"
   ]
  },
  {
   "cell_type": "code",
   "execution_count": null,
   "metadata": {},
   "outputs": [],
   "source": [
    "# naming the columns from dataset \n",
    "df = pd.DataFrame(data=iris_data['data'],columns=[\"sepal_Length\",\"sepal_width\",\"petal_length\",\"petal_width\"])\n",
    "df"
   ]
  },
  {
   "cell_type": "code",
   "execution_count": null,
   "metadata": {},
   "outputs": [],
   "source": [
    "# Adding the target column from the dataset\n",
    "df1 = pd.DataFrame(data=iris_data['target'],columns=[\"target\"])\n",
    "df1"
   ]
  },
  {
   "cell_type": "code",
   "execution_count": null,
   "metadata": {},
   "outputs": [],
   "source": [
    "# Using inner join\n",
    "df3 = df.join(df1,how='inner')"
   ]
  },
  {
   "cell_type": "code",
   "execution_count": null,
   "metadata": {},
   "outputs": [],
   "source": [
    "# printing the dataframe values\n",
    "print('*'*50)\n",
    "print(df3)\n",
    "\n",
    "print('\\n')\n",
    "\n",
    "print('******The Column Names******')\n",
    "print(df3.columns)"
   ]
  },
  {
   "cell_type": "code",
   "execution_count": null,
   "metadata": {},
   "outputs": [],
   "source": [
    "# naming the feature to asing the header name\n",
    "feature = [\"sepal_Length\",\"sepal_width\",'petal_length',\"petal_width\"]\n",
    "\n",
    "\n",
    "x = df3.loc[:,feature].values\n",
    "y = df3.loc[:,['target']].values\n"
   ]
  },
  {
   "cell_type": "code",
   "execution_count": null,
   "metadata": {},
   "outputs": [],
   "source": [
    "# Creating Principal Component Analysis with 3D representation\n",
    "pca = decomposition.PCA(n_components=3)\n",
    "X = pca.fit_transform(x)\n",
    "Y = df3['target']\n",
    "\n",
    "# the figure size (using matplotlib)\n",
    "fig = plt.figure(1, figsize=(8,6))\n",
    "\n",
    "# matplotlib 3Dimensional\n",
    "ax = Axes3D(fig, elev=-150,azim=110)\n",
    "\n",
    "\n",
    "ax.scatter(X[:, 0],X[:, 1],X[:, 2], c=Y, s=50)\n",
    "\n",
    "ax.set_title(\"3D Transformed Dimensions\")\n",
    "ax.set_xlabel('Principal Component _1',fontsize=14)\n",
    "ax.set_ylabel('Principal Component _2',fontsize=14)\n",
    "ax.set_zlabel('Principal Component _3',fontsize=14)\n",
    "\n",
    "\n",
    "plt.show()"
   ]
  }
 ],
 "metadata": {
  "kernelspec": {
   "display_name": "Python 3",
   "language": "python",
   "name": "python3"
  },
  "language_info": {
   "codemirror_mode": {
    "name": "ipython",
    "version": 3
   },
   "file_extension": ".py",
   "mimetype": "text/x-python",
   "name": "python",
   "nbconvert_exporter": "python",
   "pygments_lexer": "ipython3",
   "version": "3.7.6"
  }
 },
 "nbformat": 4,
 "nbformat_minor": 4
}
