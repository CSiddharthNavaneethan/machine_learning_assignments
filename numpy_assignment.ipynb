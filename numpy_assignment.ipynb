{
 "cells": [
  {
   "cell_type": "markdown",
   "metadata": {},
   "source": [
    "<h1><center>Session 7 : Assignment 7</center></h1>\n"
   ]
  },
  {
   "cell_type": "markdown",
   "metadata": {},
   "source": [
    "## GitHub:https://github.com/CSiddharthNavaneethan/machine_learning_assignments"
   ]
  },
  {
   "cell_type": "markdown",
   "metadata": {},
   "source": [
    "### Write a function so that the columns of the output matrix are powers of the input vector.\n",
    "\n"
   ]
  },
  {
   "cell_type": "markdown",
   "metadata": {},
   "source": [
    "### The order of the powers is determined by the increasing boolean argument. Specifically, when increasing is False, the i-th output column is the input vector raised element-wise to the power of N - i - 1."
   ]
  },
  {
   "cell_type": "markdown",
   "metadata": {},
   "source": [
    "#### HINT: Such a matrix with a geometric progression in each row is named for Alexandre\u0002Theophile Vandermonde."
   ]
  },
  {
   "cell_type": "markdown",
   "metadata": {},
   "source": [
    "### Problem Statement 2:"
   ]
  },
  {
   "cell_type": "markdown",
   "metadata": {},
   "source": [
    "#### Given a sequence of n values x1, x2, ..., xn and a window size k>0, the k-th moving average of the given sequence is defined as follows:"
   ]
  },
  {
   "cell_type": "markdown",
   "metadata": {},
   "source": [
    "#### The moving average sequence has n-k+1 elements as shown below.\n"
   ]
  },
  {
   "cell_type": "markdown",
   "metadata": {},
   "source": [
    "#### The moving averages with k=4 of a ten-value sequence (n=10) is shown below\n",
    "\n",
    "\n",
    "Thus, the moving average sequence has n-k+1=10-4+1=7 values."
   ]
  },
  {
   "cell_type": "markdown",
   "metadata": {},
   "source": [
    "#### i   1   2  3   4   5   6   7   8   9   10"
   ]
  },
  {
   "cell_type": "markdown",
   "metadata": {},
   "source": [
    "#### ===== == == == == == == == == == ==\n"
   ]
  },
  {
   "cell_type": "markdown",
   "metadata": {},
   "source": [
    "#### Input 10 20 30 40 50 60 70 80 90 100 \n"
   ]
  },
  {
   "cell_type": "markdown",
   "metadata": {},
   "source": [
    "#### y1 25 = (10+20+30+40)/4\n"
   ]
  },
  {
   "cell_type": "markdown",
   "metadata": {},
   "source": [
    "#### y2 35 = (20+30+40+50)/4\n"
   ]
  },
  {
   "cell_type": "markdown",
   "metadata": {},
   "source": [
    "#### y3 45 = (30+40+50+60)/4\n"
   ]
  },
  {
   "cell_type": "markdown",
   "metadata": {},
   "source": [
    "#### y4 55 = (40+50+60+70)/4\n"
   ]
  },
  {
   "cell_type": "markdown",
   "metadata": {},
   "source": [
    "#### y5 65 = (50+60+70+80)/4\n"
   ]
  },
  {
   "cell_type": "markdown",
   "metadata": {},
   "source": [
    "#### y6 75 = (60+70+80+90)/4\n"
   ]
  },
  {
   "cell_type": "markdown",
   "metadata": {},
   "source": [
    "#### y7 85 = (70+80+90+100)/4"
   ]
  },
  {
   "cell_type": "markdown",
   "metadata": {},
   "source": [
    "## Question: Write a function to find moving average in an array over a window:\n",
    "Test it over [3, 5, 7, 2, 8, 10, 11, 65, 72, 81, 99, 100, 150] and window of 3."
   ]
  },
  {
   "cell_type": "markdown",
   "metadata": {},
   "source": [
    "## Solution :"
   ]
  },
  {
   "cell_type": "code",
   "execution_count": 1,
   "metadata": {},
   "outputs": [],
   "source": [
    "# moving avg used in the following case stdy with n-k+1, where n is number of values taken from list, k is the values taken in sequence of 4 \n",
    "import numpy as np\n",
    "def mov_avg(list_val,k):\n",
    "    \n",
    "    # for allignment purpose \n",
    "    print('List  : ',list_val)\n",
    "    print()\n",
    "    \n",
    "    # calculate the cumulative sum of the values using list and k values with windows as 4 and 3\n",
    "    mov_avgs = np.cumsum(list_val, dtype=float)\n",
    "    mov_avgs[k:] = mov_avgs[k:] - mov_avgs[:-k]\n",
    "    moving_avg = (mov_avgs[k - 1:] / k)\n",
    "    \n",
    "    # for allignment purpose \n",
    "    print('*'*100)\n",
    "    print('\\n')\n",
    "    print('Output : \\n')\n",
    "    print(\"Moving Average : {}\".format(moving_avg))\n",
    "    \n",
    "    # length of the values \n",
    "    print('\\n')\n",
    "    print('Moving Average Sequence Value for ((n - k + 1)) :  {}'.format(len(list_val)-int(k)+1))"
   ]
  },
  {
   "cell_type": "code",
   "execution_count": 2,
   "metadata": {},
   "outputs": [
    {
     "name": "stdout",
     "output_type": "stream",
     "text": [
      "Enter the List1 values : 10,20,30,40,50,60,70,80,90,100\n",
      "\n",
      "Enter the Value for k : 4\n",
      "\n",
      "List  :  [10, 20, 30, 40, 50, 60, 70, 80, 90, 100]\n",
      "\n",
      "****************************************************************************************************\n",
      "\n",
      "\n",
      "Output : \n",
      "\n",
      "Moving Average : [25. 35. 45. 55. 65. 75. 85.]\n",
      "\n",
      "\n",
      "Moving Average Sequence Value for ((n - k + 1)) :  7\n"
     ]
    }
   ],
   "source": [
    "# enter the values\n",
    "val1 = map(int, input(\"Enter the List1 values : \").split(','))\n",
    "list_val = list(val1)\n",
    "print()\n",
    "\n",
    "\n",
    "# enter the value of k as 4\n",
    "k = int(input('Enter the Value for k : '))\n",
    "print()\n",
    "\n",
    "mov_avg(list_val,k)"
   ]
  },
  {
   "cell_type": "code",
   "execution_count": 3,
   "metadata": {},
   "outputs": [
    {
     "name": "stdout",
     "output_type": "stream",
     "text": [
      "Enter the List2 values : 3,5,7,2,8,10,11,65,72,81,99,100,150\n",
      "Enter the Value for k : 3\n",
      "List  :  [3, 5, 7, 2, 8, 10, 11, 65, 72, 81, 99, 100, 150]\n",
      "\n",
      "****************************************************************************************************\n",
      "\n",
      "\n",
      "Output : \n",
      "\n",
      "Moving Average : [  5.           4.66666667   5.66666667   6.66666667   9.66666667\n",
      "  28.66666667  49.33333333  72.66666667  84.          93.33333333\n",
      " 116.33333333]\n",
      "\n",
      "\n",
      "Moving Average Sequence Value for ((n - k + 1)) :  11\n"
     ]
    }
   ],
   "source": [
    "val2 = map(int, input(\"Enter the List2 values : \").split(','))\n",
    "list_val = list(val2)\n",
    "\n",
    "# enter the value of k as 4\n",
    "k = int(input('Enter the Value for k : '))\n",
    "\n",
    "mov_avg(list_val,k)"
   ]
  }
 ],
 "metadata": {
  "kernelspec": {
   "display_name": "Python 3",
   "language": "python",
   "name": "python3"
  },
  "language_info": {
   "codemirror_mode": {
    "name": "ipython",
    "version": 3
   },
   "file_extension": ".py",
   "mimetype": "text/x-python",
   "name": "python",
   "nbconvert_exporter": "python",
   "pygments_lexer": "ipython3",
   "version": "3.7.6"
  }
 },
 "nbformat": 4,
 "nbformat_minor": 4
}
