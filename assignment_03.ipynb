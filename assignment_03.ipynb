{
 "cells": [
  {
   "cell_type": "markdown",
   "metadata": {},
   "source": [
    "<h1><center>Session 2: Assignment 3</center></h1>"
   ]
  },
  {
   "cell_type": "markdown",
   "metadata": {},
   "source": [
    "## GitHub:https://github.com/CSiddharthNavaneethan/machine_learning_assignments"
   ]
  },
  {
   "cell_type": "markdown",
   "metadata": {},
   "source": [
    "### 1.1 Write a Python Program to implement your own myreduce() function which works exactly like Python's built-in function reduce()"
   ]
  },
  {
   "cell_type": "code",
   "execution_count": 1,
   "metadata": {},
   "outputs": [
    {
     "name": "stdout",
     "output_type": "stream",
     "text": [
      "Enter the List: 1,2,3,4,5,6\n",
      "\n",
      "Reduce List : [1, 2, 3, 4, 5, 6]\n",
      "\n",
      "*************************\n",
      "\n",
      "Output : \n"
     ]
    },
    {
     "data": {
      "text/plain": [
       "[21]"
      ]
     },
     "execution_count": 1,
     "metadata": {},
     "output_type": "execute_result"
    }
   ],
   "source": [
    "def myreduce(n):\n",
    "    \n",
    "    # convert to the list type\n",
    "    t = list(n)\n",
    "    print()\n",
    "    print('Reduce List : {}'.format(t))\n",
    "\n",
    "    \n",
    "    # create an empty list to store the sum value in a list\n",
    "    m = []\n",
    "    sums = 0\n",
    "    \n",
    "    # for allignment purpose\n",
    "    print()\n",
    "    print('*'*25)\n",
    "          \n",
    "    # for looping to add next elements from the list\n",
    "    for i in t:\n",
    "        sums = sums + i\n",
    "        k = sums\n",
    "        \n",
    "    m.append(k)\n",
    "        \n",
    "    # returns the Output\n",
    "    print()\n",
    "    print('Output : ')   \n",
    "    return m\n",
    "\n",
    "# input list of integer value (like 1,2,3,4,5,6)\n",
    "myreduce(map(int, input(\"Enter the List: \").split(',')))"
   ]
  },
  {
   "cell_type": "markdown",
   "metadata": {},
   "source": [
    "### 1.2 Write a Python program to implement your own myfilter() function which works exactly like Python's built-in function filter()"
   ]
  },
  {
   "cell_type": "code",
   "execution_count": 2,
   "metadata": {},
   "outputs": [
    {
     "name": "stdout",
     "output_type": "stream",
     "text": [
      "Enter the List : 24,12,14,1,3,5,7,8\n",
      "\n",
      "Filter List : [24, 12, 14, 1, 3, 5, 7, 8]\n",
      "\n",
      "*************************\n",
      "\n",
      "Output : \n"
     ]
    },
    {
     "data": {
      "text/plain": [
       "[24, 12, 14, 8]"
      ]
     },
     "execution_count": 2,
     "metadata": {},
     "output_type": "execute_result"
    }
   ],
   "source": [
    "def myfilter(n):\n",
    "    \n",
    "    # convert to the list type\n",
    "    t = list(n)\n",
    "    print()\n",
    "    print('Filter List : {}'.format(t))\n",
    "    \n",
    "    # create an empty list to store the sum value in a list\n",
    "    m = []\n",
    "    \n",
    "    # for allignment purpose\n",
    "    print()\n",
    "    print('*'*25)\n",
    "    \n",
    "    # for looping to check whether elements is even or not \n",
    "    for i in t:\n",
    "        if i%2 == 0:\n",
    "             m.append(i)\n",
    "                \n",
    "    # returns the Output\n",
    "    print()\n",
    "    print('Output : ')\n",
    "    return m\n",
    "\n",
    "\n",
    "# input list of integer value (like 24,12,14,1,3,5,7,8)\n",
    "myfilter(map(int, input(\"Enter the List : \").split(',')))"
   ]
  },
  {
   "cell_type": "markdown",
   "metadata": {},
   "source": [
    "### 2. Implement List comprehensions to produce the following lists. Write List comprehensions to produce the following Lists \n",
    "\n",
    "['x', 'xx', 'xxx', 'xxxx', 'y', 'yy', 'yyy', 'yyyy', 'z', 'zz', 'zzz', 'zzzz']\n",
    "\n",
    "['x', 'y', 'z', 'xx', 'yy', 'zz', 'xx', 'yy', 'zz', 'xxxx', 'yyyy', 'zzzz']\n",
    "\n",
    "[[2], [3], [4], [3], [4], [5], [4], [5], [6]] \n",
    "\n",
    "[[2, 3, 4, 5], [3, 4, 5, 6], [4, 5, 6, 7], [5, 6, 7, 8]] \n",
    "\n",
    "[(1, 1), (2, 1), (3, 1), (1, 2), (2, 2), (3, 2), (1, 3), (2, 3), (3, 3)]"
   ]
  },
  {
   "cell_type": "code",
   "execution_count": 3,
   "metadata": {},
   "outputs": [
    {
     "name": "stdout",
     "output_type": "stream",
     "text": [
      "Enter the List_1 : x,y,z\n",
      "\n",
      "\n",
      "List1 : ['x', 'y', 'z']\n",
      "\n",
      "Output1 :\n",
      "\n",
      "['x', 'xx', 'xxx', 'xxxx', 'y', 'yy', 'yyy', 'yyyy', 'z', 'zz', 'zzz', 'zzzz']\n",
      "\n",
      "\n",
      "****************************************************************************************************\n",
      "Enter the List_2 : x,y,z\n",
      "\n",
      "\n",
      "List2 : ['x', 'y', 'z']\n",
      "\n",
      "Output2 :\n",
      "\n",
      "['x', 'y', 'z', 'xx', 'yy', 'zz', 'xxx', 'yyy', 'zzz', 'xxxx', 'yyyy', 'zzzz']\n",
      "\n",
      "\n",
      "****************************************************************************************************\n",
      "Enter the List_3: 2,3,4\n",
      "\n",
      "\n",
      "List3 : [2, 3, 4]\n",
      "\n",
      "Output3 :\n",
      "\n",
      "[[2], [3], [4], [3], [4], [5], [4], [5], [6]]\n",
      "\n",
      "\n",
      "****************************************************************************************************\n",
      "Enter the List_4: 2,3,4,5\n",
      "\n",
      "\n",
      "List4 : [2, 3, 4, 5]\n",
      "\n",
      "Output4 :\n",
      "\n",
      "[[2, 3, 4, 5], [3, 4, 5, 6], [4, 5, 6, 7], [5, 6, 7, 8]]\n",
      "\n",
      "\n",
      "****************************************************************************************************\n",
      "Enter the List_5: 1,2,3\n",
      "\n",
      "\n",
      "List5 : [1, 2, 3]\n",
      "\n",
      "Output5 :\n",
      "\n",
      "[(1, 1), (2, 1), (3, 1), (1, 2), (2, 2), (3, 2), (1, 3), (2, 3), (3, 3)]\n"
     ]
    }
   ],
   "source": [
    "# input for list 1 : (i.e : x,y,z)\n",
    "list_input1 = input('Enter the List_1 : ')\n",
    "\n",
    "# the list item from the input\n",
    "list_items = list(list_input1.split(','))\n",
    "\n",
    "print('\\n')\n",
    "print('List1 : {}'.format(list_items))\n",
    "\n",
    "# for allignment purposes\n",
    "print()\n",
    "print('Output1 :')\n",
    "print()\n",
    "\n",
    "# the list comprehension for list input 1\n",
    "list_comp1 = [i*(j+str()) for j in list_items for i in range(1,len(list_items)+2)]\n",
    "print(list_comp1)\n",
    "\n",
    "print('\\n')\n",
    "print('*'*100)\n",
    "# input for list 2 : (i.e : x,y,z)\n",
    "list_input2 = input('Enter the List_2 : ')\n",
    "\n",
    "# the list item from the input\n",
    "list_items2 = list(list_input2.split(','))\n",
    "\n",
    "print('\\n')\n",
    "print('List2 : {}'.format(list_items2))\n",
    "\n",
    "# for allignment purposes\n",
    "print()\n",
    "print('Output2 :')\n",
    "print()\n",
    "\n",
    "# the list comprehension for list input 2\n",
    "list_comp2 = [m*k for m in range(1,len(list_items2)+2) for k in list_items2]\n",
    "print(list_comp2)\n",
    "\n",
    "print('\\n')\n",
    "print('*'*100)\n",
    "# input for list 3 : (i.e : 2,3,4)\n",
    "list_input3 = map(int, input(\"Enter the List_3: \").split(','))\n",
    "\n",
    "\n",
    "# the list item from the input\n",
    "list_items3 = list(list_input3)\n",
    "\n",
    "print('\\n')\n",
    "print('List3 : {}'.format(list_items3))\n",
    "\n",
    "# for allignment purposes\n",
    "print()\n",
    "print('Output3 :')\n",
    "print()\n",
    "\n",
    "# the list comprehension for list input 3\n",
    "list_comp3 = [[i+j] for j in range(0,len(list_items3)) for i in list_items3]\n",
    "print(list_comp3)\n",
    "\n",
    "print('\\n')\n",
    "print('*'*100)\n",
    "# input for list 4 : (i.e : 2,3,4,5)\n",
    "list_input4 = map(int, input(\"Enter the List_4: \").split(','))\n",
    "\n",
    "\n",
    "# the list item from the input\n",
    "list_items4 = list(list_input4)\n",
    "\n",
    "print('\\n')\n",
    "print('List4 : {}'.format(list_items4))\n",
    "\n",
    "# for allignment purposes\n",
    "print()\n",
    "print('Output4 :')\n",
    "print()\n",
    "\n",
    "# the list comprehension for list input 4\n",
    "list_comp4 = [[i+j for j in range(0,len(list_items4))] for i in list_items4]\n",
    "print(list_comp4)\n",
    "\n",
    "print('\\n')\n",
    "print('*'*100)\n",
    "# input for list 5 : (i.e : 1,2,3)\n",
    "list_input5 = map(int, input(\"Enter the List_5: \").split(','))\n",
    "\n",
    "\n",
    "# the list item from the input\n",
    "list_items5 = list(list_input5)\n",
    "\n",
    "print('\\n')\n",
    "print('List5 : {}'.format(list_items5))\n",
    "\n",
    "# for allignment purposes\n",
    "print()\n",
    "print('Output5 :')\n",
    "print()\n",
    "\n",
    "# the list comprehension for list input 5\n",
    "list_comp5 = [(i,j) for j in list_items5 for i in list_items5]\n",
    "print(list_comp5)"
   ]
  }
 ],
 "metadata": {
  "kernelspec": {
   "display_name": "Python 3",
   "language": "python",
   "name": "python3"
  },
  "language_info": {
   "codemirror_mode": {
    "name": "ipython",
    "version": 3
   },
   "file_extension": ".py",
   "mimetype": "text/x-python",
   "name": "python",
   "nbconvert_exporter": "python",
   "pygments_lexer": "ipython3",
   "version": "3.7.6"
  }
 },
 "nbformat": 4,
 "nbformat_minor": 4
}
